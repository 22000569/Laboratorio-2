{
 "cells": [
  {
   "attachments": {},
   "cell_type": "markdown",
   "metadata": {},
   "source": [
    "## (Programacion y Sintaxis):"
   ]
  },
  {
   "attachments": {},
   "cell_type": "markdown",
   "metadata": {},
   "source": [
    "### Parte #1 "
   ]
  },
  {
   "cell_type": "code",
   "execution_count": 9,
   "metadata": {},
   "outputs": [
    {
     "name": "stdout",
     "output_type": "stream",
     "text": [
      "El dato no es un numero\n",
      "El dato no es un numero\n",
      "El dato no es un numero\n",
      "El dato no es un numero\n",
      "Horas\n",
      "86\n",
      "minutos\n",
      "45\n",
      "Segundos\n",
      "21\n"
     ]
    }
   ],
   "source": [
    "while True:\n",
    "    try:\n",
    "        segundos = int(input( \"Ingrese cantidad segundos:\"))\n",
    "        Horas = segundos//3600\n",
    "        resultado1 = segundos%3600\n",
    "        minutos = resultado1//60\n",
    "        resultado2 = resultado1%60\n",
    "        break\n",
    "    except ValueError:\n",
    "         print(\"El dato no es un numero. Porfavor intente nuevamente\")\n",
    "print('Horas')\n",
    "print(Horas)\n",
    "print('minutos')\n",
    "print(minutos)\n",
    "print('Segundos')\n",
    "print(resultado2)"
   ]
  },
  {
   "attachments": {},
   "cell_type": "markdown",
   "metadata": {},
   "source": [
    "### Parte #2"
   ]
  },
  {
   "cell_type": "code",
   "execution_count": 20,
   "metadata": {},
   "outputs": [
    {
     "name": "stdout",
     "output_type": "stream",
     "text": [
      "*\n",
      "**\n",
      "***\n",
      "****\n",
      "*****\n",
      "\n",
      "\n",
      "*****\n",
      "****\n",
      "***\n",
      "**\n",
      "*\n",
      "\n",
      "\n",
      "\n",
      "*\n",
      "**\n",
      "***\n",
      "****\n",
      "*****\n",
      "\n",
      "\n",
      "*****\n",
      "****\n",
      "***\n",
      "**\n",
      "*\n"
     ]
    }
   ],
   "source": [
    "\n",
    "def asteriscos (x):\n",
    "    for i in range(0,x,1):\n",
    "        for j in range(0,i+1,1):\n",
    "            print('*',end='')\n",
    "        print('')\n",
    "    print('\\n')\n",
    "\n",
    "    for i in range(x,0,-1):\n",
    "        for j in range(0,i,1):\n",
    "            print('*',end='')\n",
    "        print('')\n",
    "    print('\\n')\n",
    "\n",
    "    for i in range(x,-1,-1):\n",
    "        for j in range(i):\n",
    "            print('',end='')\n",
    "        for k in range(i,x):\n",
    "            print('*',end='')\n",
    "        print('')\n",
    "    print('\\n')\n",
    "\n",
    "    for i in range(x-1,-1,-1):\n",
    "        for j in range(i-i-1):\n",
    "            print('',end='')\n",
    "        for k in range(i+1):\n",
    "             print('*',end='')\n",
    "        print('')\n",
    "\n",
    "x= int(input(\"Introduce el numero para asteriscos\"))\n",
    "asteriscos(x)\n"
   ]
  },
  {
   "attachments": {},
   "cell_type": "markdown",
   "metadata": {},
   "source": [
    "### Parte #3"
   ]
  },
  {
   "cell_type": "code",
   "execution_count": null,
   "metadata": {},
   "outputs": [],
   "source": [
    "fecha = input('ingrear fecha de nacimiento dd/mm/yyyy')\n",
    "\n",
    "try:\n",
    "    from datetime import datetime\n",
    "    fecha = datetime.strptime(fecha, '%d/%m/%y')\n",
    "except:\n",
    "    print('La fecha incorrecta use formato dd/mm/yyyy')\n",
    "    exit()\n",
    "\n",
    "anio1 = fecha1.year\n",
    "mes1 = fecha1.month\n",
    "dia1 = fecha1.day\n",
    "\n",
    "fechahoy = datetime.today()\n",
    "\n",
    "aniohoy = fechah.year\n",
    "meshoy = fechah.month\n",
    "diahoy = fechah.day\n",
    "\n",
    "mesadicional = 0\n",
    "if (dia1>diahoy):\n",
    "    import calendar\n",
    "    ultimodia =calendar.monthrange(anio1,mes1)[1]\n",
    "    diahoy= diahoy + ultimodia\n",
    "    mesadicional =1\n",
    "\n",
    "dias = diahoy- dia1 \n",
    "\n",
    "anioadicional = 0\n",
    "if (mes1>meshoy):\n",
    "    meshoy = meshoy +12\n",
    "    anioadicional = 1\n",
    "\n",
    "\n",
    "meses = meshoy - (mes1 + mesadicional)\n",
    "anios = aniohoy - (anio1 + anioadicional)\n",
    "\n",
    "print(str(anios)+ 'Year'+ str(meses)+ 'Month'+str(dias)+ 'Days')"
   ]
  },
  {
   "cell_type": "code",
   "execution_count": 6,
   "metadata": {},
   "outputs": [
    {
     "name": "stdout",
     "output_type": "stream",
     "text": [
      "La edad es:  22\n"
     ]
    }
   ],
   "source": [
    "anio_actual = 2023;\n",
    "mes_actual= 3;\n",
    "dia_actual= 2;\n",
    "\n",
    "anio_nacimiento = int(input(\"Ingrese año de nacmiento con el formato yyyy\"));\n",
    "mes_nacimiento = int(input(\"Ingrese mes de nacmiento con el formato mm\"));\n",
    "dia_nacimiento = int(input(\"Ingrese dia de nacmiento con el formato dd\"));\n",
    "\n",
    "if(mes_nacimiento>=mes_actual):\n",
    "    if(dia_nacimiento>dia_actual):\n",
    "        edad= anio_actual - anio_nacimiento - 1\n",
    "    else:\n",
    "        edad = anio_actual - anio_nacimiento\n",
    "else:\n",
    "    edad = anio_actual - anio_nacimiento\n",
    "\n",
    "print('La edad es: ', edad)\n",
    "\n"
   ]
  },
  {
   "attachments": {},
   "cell_type": "markdown",
   "metadata": {},
   "source": [
    "### Parte #4"
   ]
  },
  {
   "cell_type": "code",
   "execution_count": 8,
   "metadata": {},
   "outputs": [
    {
     "name": "stdout",
     "output_type": "stream",
     "text": [
      "Galileo\n"
     ]
    }
   ],
   "source": [
    "letras = ('G','a','l','i','l','e','o')\n",
    "ejercicio4 = ''.join(letras)\n",
    "\n",
    "print(str(ejercicio4))"
   ]
  },
  {
   "cell_type": "code",
   "execution_count": 16,
   "metadata": {},
   "outputs": [
    {
     "name": "stdout",
     "output_type": "stream",
     "text": [
      "Tu resultado es:  121gol31231\n"
     ]
    }
   ],
   "source": [
    "primero = input('Ingrese primer caracter')\n",
    "segundo = input('Ingrese segundo caracter')\n",
    "tercero = input('Ingrese tercero caracter')\n",
    "print('Tu resultado es: ',str(primero)+str(segundo)+str(tercero))"
   ]
  },
  {
   "attachments": {},
   "cell_type": "markdown",
   "metadata": {},
   "source": [
    "### Parte #5"
   ]
  },
  {
   "cell_type": "code",
   "execution_count": 22,
   "metadata": {},
   "outputs": [
    {
     "name": "stdout",
     "output_type": "stream",
     "text": [
      "['Jorge', 'Marco', (), (20, 34), 100, ()]\n",
      "['Jorge', 'Marco', (20, 34), 100]\n"
     ]
    }
   ],
   "source": [
    "parte5 = [('Jorge'),('Marco'),(),(20,34),(100),(),]\n",
    "print(parte5)\n",
    "\n",
    "parte5=[t for t in parte5 if t]\n",
    "print(parte5)\n"
   ]
  },
  {
   "attachments": {},
   "cell_type": "markdown",
   "metadata": {},
   "source": [
    "### Parte #6"
   ]
  },
  {
   "cell_type": "code",
   "execution_count": 40,
   "metadata": {},
   "outputs": [
    {
     "name": "stdout",
     "output_type": "stream",
     "text": [
      "Promedio de la tupla : 13.666666666666666\n"
     ]
    }
   ],
   "source": [
    "tupla = [(1, 4, 5), (7, 8), (2, 4, 10)]\n",
    " \n",
    "\n",
    "sum = 0\n",
    "for sub in tupla:\n",
    "    for i in sub:\n",
    "        sum = sum + i\n",
    "res = sum / len(tupla)\n",
    " \n",
    "print(\"Promedio de la tupla : \" +str(res))"
   ]
  },
  {
   "attachments": {},
   "cell_type": "markdown",
   "metadata": {},
   "source": [
    "### Parte #7"
   ]
  },
  {
   "cell_type": "code",
   "execution_count": 39,
   "metadata": {},
   "outputs": [],
   "source": [
    "facturas_empresa = []\n",
    "\n",
    "f= {'Numero_factura':1111,'Nombre_Cliente':'Marcos','Monto': 34}\n",
    "facturas_empresa.append(f)\n",
    "d= {'Numero_factura':1111,'Nombre_Cliente':'Marcos','Monto': 34}\n",
    "facturas_empresa.append(d)\n",
    "s= {'Numero_factura':2222,'Nombre_Cliente':'Julio','Monto': 56}\n",
    "facturas_empresa.append(s)\n",
    "g= {'Numero_factura':3333,'Nombre_Cliente':'Cesar','Monto': 100}\n",
    "facturas_empresa.append(g)\n",
    "h= {'Numero_factura':4444,'Nombre_Cliente':'Gustavo','Monto': 56}\n",
    "facturas_empresa.append(h)"
   ]
  },
  {
   "cell_type": "code",
   "execution_count": null,
   "metadata": {},
   "outputs": [],
   "source": [
    "def agregar_factura():\n",
    "    global facturas_empresa\n",
    "    Numero_factura = int(input('Ingrese numero de factura:'))\n",
    "    Nombre_Cliente = input('Ingrese nombre del cliente de factura:')\n",
    "    Monto = int(input('Ingrese monto factura:'))\n",
    "\n",
    "    facturas_empresa[Numero_factura] = Nombre_Cliente, Monto\n",
    "    print(facturas_empresa)\n",
    "\n",
    "def delete(id):\n",
    "     global facturas_empresa\n",
    "     del(facturas_empresa[id])\n",
    "     print('Factura elminada')\n",
    "\n",
    "def listar():\n",
    "    global facturas_empresa\n",
    "    for user in facturas_empresa:\n",
    "        print(\n",
    "    \"\"\"\n",
    "        Numero_factura {}\n",
    "        Nombre_Cliente {}\n",
    "        Monto {}\n",
    "\n",
    "        \"\"\".format(user,facturas_empresa[user][0],facturas_empresa[user][1],Ffacturas_empresa[user][2]))\n",
    "\n",
    "facturas_empresa = []\n",
    "while True:\n",
    "    print('------Factura empresa--------\\n')\n",
    "    print('[1]------Agregar nueva factura--------')\n",
    "    print('[2]------Eliminar factura--------')\n",
    "    print('[3]------Lista facturas--------')\n",
    "    print('[4]------Salir--------')\n",
    "\n",
    "    try:\n",
    "        option = int(input('Seleccione una opcion'))\n",
    "\n",
    "        if option == 1:\n",
    "            agregar_factura()\n",
    "        elif option == 2:\n",
    "            Numero_factura = int(input('Proporcione factura que desea eliminar'))\n",
    "            delete(id)\n",
    "        elif option == 3:\n",
    "            listar()\n",
    "        elif option == 4:\n",
    "            exit(0)\n",
    "    except:\n",
    "        print(\"Nueva factura incorrect\")\n",
    "\n"
   ]
  },
  {
   "attachments": {},
   "cell_type": "markdown",
   "metadata": {},
   "source": [
    "### Parte #8"
   ]
  },
  {
   "cell_type": "code",
   "execution_count": 10,
   "metadata": {},
   "outputs": [],
   "source": [
    "Tipos_cartas = ['Corazon','Picas','Treboles','Espadas']\n",
    "numeros = list(range(1,14,1))"
   ]
  },
  {
   "cell_type": "code",
   "execution_count": 17,
   "metadata": {},
   "outputs": [],
   "source": [
    "def create_barajas():\n",
    "    Tipos_cartas = ['Corazon','Picas','Treboles','Espadas']\n",
    "    numeros = list(range(1,14,1))\n",
    "\n",
    "    baraja = []\n",
    "    for Tipos_carta in Tipos_cartas:\n",
    "        for numero in numeros:\n",
    "            carta = Tipos_carta+str(numero)\n",
    "            baraja.append(carta)   \n",
    "\n",
    "    return baraja\n",
    "    \n"
   ]
  },
  {
   "cell_type": "code",
   "execution_count": null,
   "metadata": {},
   "outputs": [],
   "source": [
    "baraja = create_barajas()\n",
    "baraja"
   ]
  },
  {
   "cell_type": "code",
   "execution_count": 20,
   "metadata": {},
   "outputs": [],
   "source": [
    "import random"
   ]
  },
  {
   "cell_type": "code",
   "execution_count": 35,
   "metadata": {},
   "outputs": [],
   "source": [
    "cantidad = random.randint(1,26)\n",
    "mano1 = set(random.sample(baraja,cantidad))\n",
    "\n",
    "cantidad = random.randint(1,26)\n",
    "mano2 = set(random.sample(baraja,cantidad))\n"
   ]
  },
  {
   "cell_type": "code",
   "execution_count": 36,
   "metadata": {},
   "outputs": [
    {
     "name": "stdout",
     "output_type": "stream",
     "text": [
      "{'Espadas8', 'Treboles9', 'Picas5', 'Picas3', 'Corazon13', 'Treboles10', 'Espadas7', 'Corazon10', 'Treboles8', 'Treboles5', 'Picas13', 'Picas12', 'Corazon3', 'Corazon4', 'Picas9', 'Corazon11', 'Espadas5', 'Picas8', 'Treboles3', 'Corazon9'}\n",
      "{'Treboles12', 'Picas1', 'Espadas6', 'Corazon13', 'Corazon7', 'Corazon10', 'Corazon12', 'Corazon3', 'Espadas5', 'Treboles11'}\n"
     ]
    }
   ],
   "source": [
    "print(mano1)\n",
    "print(mano2)\n"
   ]
  },
  {
   "cell_type": "code",
   "execution_count": 37,
   "metadata": {},
   "outputs": [
    {
     "name": "stdout",
     "output_type": "stream",
     "text": [
      "{'Corazon13', 'Corazon3', 'Corazon10', 'Espadas5'}\n"
     ]
    }
   ],
   "source": [
    "interseccion = mano1 & mano2\n",
    "print(interseccion)"
   ]
  },
  {
   "cell_type": "code",
   "execution_count": 38,
   "metadata": {},
   "outputs": [
    {
     "name": "stdout",
     "output_type": "stream",
     "text": [
      "{'Treboles5', 'Treboles12', 'Picas1', 'Espadas8', 'Picas13', 'Picas12', 'Treboles9', 'Corazon3', 'Picas5', 'Corazon4', 'Picas3', 'Picas9', 'Espadas6', 'Corazon13', 'Corazon11', 'Treboles10', 'Espadas7', 'Corazon10', 'Corazon7', 'Treboles8', 'Corazon12', 'Espadas5', 'Treboles11', 'Picas8', 'Treboles3', 'Corazon9'}\n"
     ]
    }
   ],
   "source": [
    "unio = mano1 | mano2\n",
    "print(unio)"
   ]
  },
  {
   "cell_type": "code",
   "execution_count": null,
   "metadata": {},
   "outputs": [],
   "source": []
  }
 ],
 "metadata": {
  "kernelspec": {
   "display_name": "base",
   "language": "python",
   "name": "python3"
  },
  "language_info": {
   "codemirror_mode": {
    "name": "ipython",
    "version": 3
   },
   "file_extension": ".py",
   "mimetype": "text/x-python",
   "name": "python",
   "nbconvert_exporter": "python",
   "pygments_lexer": "ipython3",
   "version": "3.9.13"
  },
  "orig_nbformat": 4,
  "vscode": {
   "interpreter": {
    "hash": "4189640f916f38dad6c49a6af929d72d1f0ba34a341867d6334e8a6516c8a914"
   }
  }
 },
 "nbformat": 4,
 "nbformat_minor": 2
}
