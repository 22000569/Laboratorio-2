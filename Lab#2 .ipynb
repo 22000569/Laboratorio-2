{
 "cells": [
  {
   "attachments": {},
   "cell_type": "markdown",
   "metadata": {},
   "source": [
    "## (Programacion y Sintaxis):"
   ]
  },
  {
   "attachments": {},
   "cell_type": "markdown",
   "metadata": {},
   "source": [
    "### Parte #1 "
   ]
  },
  {
   "cell_type": "code",
   "execution_count": 9,
   "metadata": {},
   "outputs": [
    {
     "name": "stdout",
     "output_type": "stream",
     "text": [
      "El dato no es un numero\n",
      "El dato no es un numero\n",
      "El dato no es un numero\n",
      "El dato no es un numero\n",
      "Horas\n",
      "86\n",
      "minutos\n",
      "45\n",
      "Segundos\n",
      "21\n"
     ]
    }
   ],
   "source": [
    "while True:\n",
    "    try:\n",
    "        segundos = int(input( \"Ingrese cantidad segundos:\"))\n",
    "        Horas = segundos//3600\n",
    "        resultado1 = segundos%3600\n",
    "        minutos = resultado1//60\n",
    "        resultado2 = resultado1%60\n",
    "        break\n",
    "    except ValueError:\n",
    "         print(\"El dato no es un numero. Porfavor intente nuevamente\")\n",
    "print('Horas')\n",
    "print(Horas)\n",
    "print('minutos')\n",
    "print(minutos)\n",
    "print('Segundos')\n",
    "print(resultado2)"
   ]
  },
  {
   "attachments": {},
   "cell_type": "markdown",
   "metadata": {},
   "source": [
    "### Parte #2"
   ]
  },
  {
   "cell_type": "code",
   "execution_count": 20,
   "metadata": {},
   "outputs": [
    {
     "name": "stdout",
     "output_type": "stream",
     "text": [
      "*\n",
      "**\n",
      "***\n",
      "****\n",
      "*****\n",
      "\n",
      "\n",
      "*****\n",
      "****\n",
      "***\n",
      "**\n",
      "*\n",
      "\n",
      "\n",
      "\n",
      "*\n",
      "**\n",
      "***\n",
      "****\n",
      "*****\n",
      "\n",
      "\n",
      "*****\n",
      "****\n",
      "***\n",
      "**\n",
      "*\n"
     ]
    }
   ],
   "source": [
    "\n",
    "def asteriscos (x):\n",
    "    for i in range(0,x,1):\n",
    "        for j in range(0,i+1,1):\n",
    "            print('*',end='')\n",
    "        print('')\n",
    "    print('\\n')\n",
    "\n",
    "    for i in range(x,0,-1):\n",
    "        for j in range(0,i,1):\n",
    "            print('*',end='')\n",
    "        print('')\n",
    "    print('\\n')\n",
    "\n",
    "    for i in range(x,-1,-1):\n",
    "        for j in range(i):\n",
    "            print('',end='')\n",
    "        for k in range(i,x):\n",
    "            print('*',end='')\n",
    "        print('')\n",
    "    print('\\n')\n",
    "\n",
    "    for i in range(x-1,-1,-1):\n",
    "        for j in range(i-i-1):\n",
    "            print('',end='')\n",
    "        for k in range(i+1):\n",
    "             print('*',end='')\n",
    "        print('')\n",
    "\n",
    "x= int(input(\"Introduce el numero para asteriscos\"))\n",
    "asteriscos(x)\n"
   ]
  },
  {
   "attachments": {},
   "cell_type": "markdown",
   "metadata": {},
   "source": [
    "### Parte #3"
   ]
  },
  {
   "cell_type": "code",
   "execution_count": null,
   "metadata": {},
   "outputs": [],
   "source": [
    "fecha = input('ingrear fecha de nacimiento dd/mm/yyyy')\n",
    "\n",
    "try:\n",
    "    from datetime import datetime\n",
    "    fecha = datetime.strptime(fecha, '%d/%m/%y')\n",
    "except:\n",
    "    print('La fecha incorrecta use formato dd/mm/yyyy')\n",
    "    exit()\n",
    "\n",
    "anio1 = fecha1.year\n",
    "mes1 = fecha1.month\n",
    "dia1 = fecha1.day\n",
    "\n",
    "fechahoy = datetime.today()\n",
    "\n",
    "aniohoy = fechah.year\n",
    "meshoy = fechah.month\n",
    "diahoy = fechah.day\n",
    "\n",
    "mesadicional = 0\n",
    "if (dia1>diahoy):\n",
    "    import calendar\n",
    "    ultimodia =calendar.monthrange(anio1,mes1)[1]\n",
    "    diahoy= diahoy + ultimodia\n",
    "    mesadicional =1\n",
    "\n",
    "dias = diahoy- dia1 \n",
    "\n",
    "anioadicional = 0\n",
    "if (mes1>meshoy):\n",
    "    meshoy = meshoy +12\n",
    "    anioadicional = 1\n",
    "\n",
    "\n",
    "meses = meshoy - (mes1 + mesadicional)\n",
    "anios = aniohoy - (anio1 + anioadicional)\n",
    "\n",
    "print(str(anios)+ 'Year'+ str(meses)+ 'Month'+str(dias)+ 'Days')"
   ]
  },
  {
   "cell_type": "code",
   "execution_count": 6,
   "metadata": {},
   "outputs": [
    {
     "name": "stdout",
     "output_type": "stream",
     "text": [
      "La edad es:  22\n"
     ]
    }
   ],
   "source": [
    "anio_actual = 2023;\n",
    "mes_actual= 3;\n",
    "dia_actual= 2;\n",
    "\n",
    "anio_nacimiento = int(input(\"Ingrese año de nacmiento con el formato yyyy\"));\n",
    "mes_nacimiento = int(input(\"Ingrese mes de nacmiento con el formato mm\"));\n",
    "dia_nacimiento = int(input(\"Ingrese dia de nacmiento con el formato dd\"));\n",
    "\n",
    "if(mes_nacimiento>=mes_actual):\n",
    "    if(dia_nacimiento>dia_actual):\n",
    "        edad= anio_actual - anio_nacimiento - 1\n",
    "    else:\n",
    "        edad = anio_actual - anio_nacimiento\n",
    "else:\n",
    "    edad = anio_actual - anio_nacimiento\n",
    "\n",
    "print('La edad es: ', edad)\n",
    "\n"
   ]
  },
  {
   "attachments": {},
   "cell_type": "markdown",
   "metadata": {},
   "source": [
    "### Parte #4"
   ]
  },
  {
   "cell_type": "code",
   "execution_count": 8,
   "metadata": {},
   "outputs": [
    {
     "name": "stdout",
     "output_type": "stream",
     "text": [
      "Galileo\n"
     ]
    }
   ],
   "source": [
    "letras = ('G','a','l','i','l','e','o')\n",
    "ejercicio4 = ''.join(letras)\n",
    "\n",
    "print(str(ejercicio4))"
   ]
  },
  {
   "cell_type": "code",
   "execution_count": 16,
   "metadata": {},
   "outputs": [
    {
     "name": "stdout",
     "output_type": "stream",
     "text": [
      "Tu resultado es:  121gol31231\n"
     ]
    }
   ],
   "source": [
    "primero = input('Ingrese primer caracter')\n",
    "segundo = input('Ingrese segundo caracter')\n",
    "tercero = input('Ingrese tercero caracter')\n",
    "print('Tu resultado es: ',str(primero)+str(segundo)+str(tercero))"
   ]
  },
  {
   "attachments": {},
   "cell_type": "markdown",
   "metadata": {},
   "source": [
    "### Parte #5"
   ]
  },
  {
   "cell_type": "code",
   "execution_count": 22,
   "metadata": {},
   "outputs": [
    {
     "name": "stdout",
     "output_type": "stream",
     "text": [
      "['Jorge', 'Marco', (), (20, 34), 100, ()]\n",
      "['Jorge', 'Marco', (20, 34), 100]\n"
     ]
    }
   ],
   "source": [
    "parte5 = [('Jorge'),('Marco'),(),(20,34),(100),(),]\n",
    "print(parte5)\n",
    "\n",
    "parte5=[t for t in parte5 if t]\n",
    "print(parte5)\n"
   ]
  },
  {
   "attachments": {},
   "cell_type": "markdown",
   "metadata": {},
   "source": [
    "### Parte #6"
   ]
  },
  {
   "cell_type": "code",
   "execution_count": 45,
   "metadata": {},
   "outputs": [
    {
     "ename": "NameError",
     "evalue": "name 'count' is not defined",
     "output_type": "error",
     "traceback": [
      "\u001b[1;31m---------------------------------------------------------------------------\u001b[0m",
      "\u001b[1;31mNameError\u001b[0m                                 Traceback (most recent call last)",
      "\u001b[1;32m~\\AppData\\Local\\Temp\\ipykernel_5864\\2929922897.py\u001b[0m in \u001b[0;36m<module>\u001b[1;34m\u001b[0m\n\u001b[0;32m     11\u001b[0m \u001b[0mcalificaciones\u001b[0m \u001b[1;33m=\u001b[0m \u001b[1;33m[\u001b[0m\u001b[1;36m12\u001b[0m\u001b[1;33m,\u001b[0m \u001b[1;36m45\u001b[0m\u001b[1;33m]\u001b[0m\u001b[1;33m\u001b[0m\u001b[1;33m\u001b[0m\u001b[0m\n\u001b[0;32m     12\u001b[0m \u001b[1;32mtry\u001b[0m\u001b[1;33m:\u001b[0m\u001b[1;33m\u001b[0m\u001b[1;33m\u001b[0m\u001b[0m\n\u001b[1;32m---> 13\u001b[1;33m     \u001b[0mresultado6\u001b[0m \u001b[1;33m=\u001b[0m \u001b[0msumar\u001b[0m\u001b[1;33m(\u001b[0m\u001b[0mcalificaciones\u001b[0m\u001b[1;33m)\u001b[0m\u001b[1;33m/\u001b[0m\u001b[0mcount\u001b[0m\u001b[1;33m(\u001b[0m\u001b[0mcalificaciones\u001b[0m\u001b[1;33m)\u001b[0m\u001b[1;33m\u001b[0m\u001b[1;33m\u001b[0m\u001b[0m\n\u001b[0m\u001b[0;32m     14\u001b[0m     \u001b[0mprint\u001b[0m\u001b[1;33m(\u001b[0m\u001b[1;34m'Resultado {}'\u001b[0m\u001b[1;33m.\u001b[0m\u001b[0mformat\u001b[0m\u001b[1;33m(\u001b[0m\u001b[0mresultado6\u001b[0m\u001b[1;33m)\u001b[0m\u001b[1;33m)\u001b[0m\u001b[1;33m\u001b[0m\u001b[1;33m\u001b[0m\u001b[0m\n\u001b[0;32m     15\u001b[0m \u001b[1;32mexcept\u001b[0m \u001b[0mValueError\u001b[0m \u001b[1;32mas\u001b[0m \u001b[0me\u001b[0m\u001b[1;33m:\u001b[0m\u001b[1;33m\u001b[0m\u001b[1;33m\u001b[0m\u001b[0m\n",
      "\u001b[1;31mNameError\u001b[0m: name 'count' is not defined"
     ]
    }
   ],
   "source": [
    "def sumar(valores):\n",
    "    if isinstance(valores,(list, tuple)):\n",
    "        acumulador = 0\n",
    "\n",
    "        for v in valores:\n",
    "            acumulador +=v\n",
    "        return acumulador\n",
    "    else: \n",
    "        raise ValueError('Tupla incorrect')\n",
    "\n",
    "calificaciones = [12, 45]\n",
    "try:\n",
    "    resultado6 = sumar(calificaciones)/cou(calificaciones)\n",
    "    print('Resultado {}'.format(resultado6))\n",
    "except ValueError as e:\n",
    "    print('Error',e)\n",
    "\n",
    "\n",
    "\n"
   ]
  },
  {
   "cell_type": "code",
   "execution_count": 52,
   "metadata": {},
   "outputs": [
    {
     "ename": "TypeError",
     "evalue": "int() argument must be a string, a bytes-like object or a number, not 'list'",
     "output_type": "error",
     "traceback": [
      "\u001b[1;31m---------------------------------------------------------------------------\u001b[0m",
      "\u001b[1;31mTypeError\u001b[0m                                 Traceback (most recent call last)",
      "\u001b[1;32m~\\AppData\\Local\\Temp\\ipykernel_5864\\1558682886.py\u001b[0m in \u001b[0;36m<module>\u001b[1;34m\u001b[0m\n\u001b[0;32m      1\u001b[0m \u001b[0minp_lst\u001b[0m \u001b[1;33m=\u001b[0m \u001b[1;33m[\u001b[0m\u001b[1;33m(\u001b[0m\u001b[1;36m78\u001b[0m\u001b[1;33m,\u001b[0m \u001b[1;36m36\u001b[0m\u001b[1;33m,\u001b[0m \u001b[1;36m45\u001b[0m\u001b[1;33m,\u001b[0m \u001b[1;36m237.11\u001b[0m\u001b[1;33m,\u001b[0m \u001b[1;33m-\u001b[0m\u001b[1;36m1\u001b[0m\u001b[1;33m,\u001b[0m \u001b[1;36m88\u001b[0m\u001b[1;33m)\u001b[0m\u001b[1;33m]\u001b[0m\u001b[1;33m\u001b[0m\u001b[1;33m\u001b[0m\u001b[0m\n\u001b[1;32m----> 2\u001b[1;33m \u001b[0mconversor\u001b[0m \u001b[1;33m=\u001b[0m \u001b[0mint\u001b[0m\u001b[1;33m(\u001b[0m\u001b[0minp_lst\u001b[0m\u001b[1;33m)\u001b[0m\u001b[1;33m\u001b[0m\u001b[1;33m\u001b[0m\u001b[0m\n\u001b[0m\u001b[0;32m      3\u001b[0m \u001b[0mmean\u001b[0m \u001b[1;33m=\u001b[0m \u001b[0msum\u001b[0m\u001b[1;33m(\u001b[0m\u001b[0mconversor\u001b[0m\u001b[1;33m)\u001b[0m \u001b[1;33m/\u001b[0m \u001b[0mlen\u001b[0m\u001b[1;33m(\u001b[0m\u001b[0mconversor\u001b[0m\u001b[1;33m)\u001b[0m\u001b[1;33m\u001b[0m\u001b[1;33m\u001b[0m\u001b[0m\n",
      "\u001b[1;31mTypeError\u001b[0m: int() argument must be a string, a bytes-like object or a number, not 'list'"
     ]
    }
   ],
   "source": [
    "\n",
    "\n",
    "inp_lst = [(12, 45), (78, 36, 45, 237.11, -1, 88)]\n",
    "conversor = int(inp_lst)\n",
    "mean = sum(conversor) / len(conversor)"
   ]
  },
  {
   "cell_type": "code",
   "execution_count": 49,
   "metadata": {},
   "outputs": [
    {
     "name": "stdout",
     "output_type": "stream",
     "text": [
      "The mean of tuple list is : 13.666666666666666\n"
     ]
    }
   ],
   "source": [
    "test_list = [(1, 4, 5), (7, 8), (2, 4, 10)]\n",
    " \n",
    "\n",
    "# Average of tuple list\n",
    "# Using loops\n",
    "sum = 0\n",
    "for sub in test_list:\n",
    "    for i in sub:\n",
    "        sum = sum + i\n",
    "res = sum / len(test_list)\n",
    " \n",
    "print(\"The mean of tuple list is : \" +str(res))"
   ]
  },
  {
   "attachments": {},
   "cell_type": "markdown",
   "metadata": {},
   "source": [
    "### Parte #7"
   ]
  },
  {
   "cell_type": "code",
   "execution_count": null,
   "metadata": {},
   "outputs": [],
   "source": [
    "def agregar_usuarios():\n",
    "    global usuarios\n",
    "    id = int(input('id'))\n",
    "    nombre = input('nombre')\n",
    "    direccion = input('direccion')\n",
    "    telefono = input('telefono')\n",
    "\n",
    "    Factura[numero_factura] = monto_factura\n",
    "    print(Factura)\n",
    "\n",
    "def eliminar(numero_factura):\n",
    "     global Factura\n",
    "     del(Factura[numero_factura])\n",
    "     print('Factura elminada')\n",
    "\n",
    "\n",
    "usuarios = {}\n",
    "while True:\n",
    "    print('[1]------aplicacion--------\\n')\n",
    "    print('[1]------Agregar--------')\n",
    "    print('[2]------Eliminar--------')\n",
    "    print('[3]------Lista--------')\n",
    "    print('[4]------Salir--------')\n",
    "\n",
    "    try:\n",
    "        option = int(input('\\nSeleccione una opcion'))\n",
    "\n",
    "        if option == 1:\n",
    "            Agregar()\n",
    "        elif option ==2:\n",
    "            numero_factura = int(input('Proporcione factura que desea eliminar'))\n",
    "            delete(numero_factura)\n",
    "        elif option ==4:\n",
    "            exit()\n",
    "    except:\n",
    "        print(\"Nueva factura incorrect\")\n",
    "\n"
   ]
  },
  {
   "cell_type": "code",
   "execution_count": 1,
   "metadata": {},
   "outputs": [
    {
     "name": "stdout",
     "output_type": "stream",
     "text": [
      "------aplicacion--------\n",
      "\n",
      "[1]------Agregar--------\n",
      "[2]------Eliminar--------\n",
      "[3]------Lista--------\n",
      "[4]------Salir--------\n",
      "Nueva factura incorrect\n",
      "------aplicacion--------\n",
      "\n",
      "[1]------Agregar--------\n",
      "[2]------Eliminar--------\n",
      "[3]------Lista--------\n",
      "[4]------Salir--------\n",
      "------aplicacion--------\n",
      "\n",
      "[1]------Agregar--------\n",
      "[2]------Eliminar--------\n",
      "[3]------Lista--------\n",
      "[4]------Salir--------\n"
     ]
    }
   ],
   "source": [
    "def agregar_usuarios():\n",
    "    global usuarios\n",
    "    id = int(input('id'))\n",
    "    nombre = input('nombre')\n",
    "    direccion = input('direccion')\n",
    "    telefono = input('telefono')\n",
    "\n",
    "    usuarios[id] = nombre,direccion,telefono\n",
    "\n",
    "usuarios = {}\n",
    "while True:\n",
    "    print('------aplicacion--------\\n')\n",
    "    print('[1]------Agregar--------')\n",
    "    print('[2]------Eliminar--------')\n",
    "    print('[3]------Lista--------')\n",
    "    print('[4]------Salir--------')\n",
    "\n",
    "    try:\n",
    "        option = int(input('\\nSeleccione una opcion'))\n",
    "        if option == 1:\n",
    "            agregar_usuarios()\n",
    "    except:\n",
    "        print(\"Nueva factura incorrect\")\n"
   ]
  },
  {
   "attachments": {},
   "cell_type": "markdown",
   "metadata": {},
   "source": [
    "### Parte #8"
   ]
  },
  {
   "cell_type": "code",
   "execution_count": 1,
   "metadata": {},
   "outputs": [
    {
     "name": "stdout",
     "output_type": "stream",
     "text": [
      "[1]------Factura empresa--------\n",
      "\n",
      "[1]------Agregar nueva factura--------\n",
      "[2]------Eliminar factura--------\n",
      "[3]------Lista facturas--------\n",
      "[4]------Salir--------\n",
      "Nueva factura incorrect\n",
      "[1]------Factura empresa--------\n",
      "\n",
      "[1]------Agregar nueva factura--------\n",
      "[2]------Eliminar factura--------\n",
      "[3]------Lista facturas--------\n",
      "[4]------Salir--------\n",
      "{1: 1234}\n",
      "[1]------Factura empresa--------\n",
      "\n",
      "[1]------Agregar nueva factura--------\n",
      "[2]------Eliminar factura--------\n",
      "[3]------Lista facturas--------\n",
      "[4]------Salir--------\n",
      "[1]------Factura empresa--------\n",
      "\n",
      "[1]------Agregar nueva factura--------\n",
      "[2]------Eliminar factura--------\n",
      "[3]------Lista facturas--------\n",
      "[4]------Salir--------\n",
      "{1: 1236}\n",
      "[1]------Factura empresa--------\n",
      "\n",
      "[1]------Agregar nueva factura--------\n",
      "[2]------Eliminar factura--------\n",
      "[3]------Lista facturas--------\n",
      "[4]------Salir--------\n",
      "[1]------Factura empresa--------\n",
      "\n",
      "[1]------Agregar nueva factura--------\n",
      "[2]------Eliminar factura--------\n",
      "[3]------Lista facturas--------\n",
      "[4]------Salir--------\n",
      "{1: 234}\n",
      "[1]------Factura empresa--------\n",
      "\n",
      "[1]------Agregar nueva factura--------\n",
      "[2]------Eliminar factura--------\n",
      "[3]------Lista facturas--------\n",
      "[4]------Salir--------\n",
      "[1]------Factura empresa--------\n",
      "\n",
      "[1]------Agregar nueva factura--------\n",
      "[2]------Eliminar factura--------\n",
      "[3]------Lista facturas--------\n",
      "[4]------Salir--------\n",
      "[1]------Factura empresa--------\n",
      "\n",
      "[1]------Agregar nueva factura--------\n",
      "[2]------Eliminar factura--------\n",
      "[3]------Lista facturas--------\n",
      "[4]------Salir--------\n",
      "[1]------Factura empresa--------\n",
      "\n",
      "[1]------Agregar nueva factura--------\n",
      "[2]------Eliminar factura--------\n",
      "[3]------Lista facturas--------\n",
      "[4]------Salir--------\n",
      "[1]------Factura empresa--------\n",
      "\n",
      "[1]------Agregar nueva factura--------\n",
      "[2]------Eliminar factura--------\n",
      "[3]------Lista facturas--------\n",
      "[4]------Salir--------\n",
      "[1]------Factura empresa--------\n",
      "\n",
      "[1]------Agregar nueva factura--------\n",
      "[2]------Eliminar factura--------\n",
      "[3]------Lista facturas--------\n",
      "[4]------Salir--------\n",
      "[1]------Factura empresa--------\n",
      "\n",
      "[1]------Agregar nueva factura--------\n",
      "[2]------Eliminar factura--------\n",
      "[3]------Lista facturas--------\n",
      "[4]------Salir--------\n",
      "[1]------Factura empresa--------\n",
      "\n",
      "[1]------Agregar nueva factura--------\n",
      "[2]------Eliminar factura--------\n",
      "[3]------Lista facturas--------\n",
      "[4]------Salir--------\n",
      "[1]------Factura empresa--------\n",
      "\n",
      "[1]------Agregar nueva factura--------\n",
      "[2]------Eliminar factura--------\n",
      "[3]------Lista facturas--------\n",
      "[4]------Salir--------\n",
      "Nueva factura incorrect\n",
      "[1]------Factura empresa--------\n",
      "\n",
      "[1]------Agregar nueva factura--------\n",
      "[2]------Eliminar factura--------\n",
      "[3]------Lista facturas--------\n",
      "[4]------Salir--------\n",
      "Nueva factura incorrect\n",
      "[1]------Factura empresa--------\n",
      "\n",
      "[1]------Agregar nueva factura--------\n",
      "[2]------Eliminar factura--------\n",
      "[3]------Lista facturas--------\n",
      "[4]------Salir--------\n",
      "Nueva factura incorrect\n",
      "[1]------Factura empresa--------\n",
      "\n",
      "[1]------Agregar nueva factura--------\n",
      "[2]------Eliminar factura--------\n",
      "[3]------Lista facturas--------\n",
      "[4]------Salir--------\n",
      "Nueva factura incorrect\n",
      "[1]------Factura empresa--------\n",
      "\n",
      "[1]------Agregar nueva factura--------\n",
      "[2]------Eliminar factura--------\n",
      "[3]------Lista facturas--------\n",
      "[4]------Salir--------\n",
      "Nueva factura incorrect\n",
      "[1]------Factura empresa--------\n",
      "\n",
      "[1]------Agregar nueva factura--------\n",
      "[2]------Eliminar factura--------\n",
      "[3]------Lista facturas--------\n",
      "[4]------Salir--------\n",
      "Nueva factura incorrect\n",
      "[1]------Factura empresa--------\n",
      "\n",
      "[1]------Agregar nueva factura--------\n",
      "[2]------Eliminar factura--------\n",
      "[3]------Lista facturas--------\n",
      "[4]------Salir--------\n",
      "Nueva factura incorrect\n",
      "[1]------Factura empresa--------\n",
      "\n",
      "[1]------Agregar nueva factura--------\n",
      "[2]------Eliminar factura--------\n",
      "[3]------Lista facturas--------\n",
      "[4]------Salir--------\n",
      "Nueva factura incorrect\n",
      "[1]------Factura empresa--------\n",
      "\n",
      "[1]------Agregar nueva factura--------\n",
      "[2]------Eliminar factura--------\n",
      "[3]------Lista facturas--------\n",
      "[4]------Salir--------\n"
     ]
    }
   ],
   "source": [
    "def agregar_factura():\n",
    "    global Factura\n",
    "    numero_factura = int(input('Ingrese nueva factura:'))\n",
    "    monto_factura = int(input('Ingrese monto factura:'))\n",
    "\n",
    "    Factura[numero_factura] = monto_factura\n",
    "    print(Factura)\n",
    "\n",
    "def eliminar(numero_factura):\n",
    "     global Factura\n",
    "     del(Factura[numero_factura])\n",
    "     print('Factura elminada')\n",
    "\n",
    "def listar():\n",
    "    global Factura \n",
    "    for user in Factura:\n",
    "        print(\n",
    "    \"\"\"\n",
    "        numero_factura {}\n",
    "        monto_factura {}\n",
    "\n",
    "        \"\"\".format(user,Factura[user][0]))\n",
    "\n",
    "Factura = {}\n",
    "while True:\n",
    "    print('[1]------Factura empresa--------\\n')\n",
    "    print('[1]------Agregar nueva factura--------')\n",
    "    print('[2]------Eliminar factura--------')\n",
    "    print('[3]------Lista facturas--------')\n",
    "    print('[4]------Salir--------')\n",
    "\n",
    "    try:\n",
    "        option = int(input('\\nSeleccione una opcion'))\n",
    "\n",
    "        if option==1:\n",
    "            agregar_factura()\n",
    "        elif option ==2:\n",
    "            numero_factura = int(input('Proporcione factura que desea eliminar'))\n",
    "            eliminar(numero_factura)\n",
    "        elif option ==3:\n",
    "            listar()\n",
    "        elif option ==4:\n",
    "            exit(0)\n",
    "    except:\n",
    "        print(\"Nueva factura incorrect\")\n",
    "\n"
   ]
  },
  {
   "cell_type": "code",
   "execution_count": null,
   "metadata": {},
   "outputs": [],
   "source": [
    "facturas =  {1231: 100, 1232: 30.4, 1233: 80,1234: 70 ,1235: 56} "
   ]
  }
 ],
 "metadata": {
  "kernelspec": {
   "display_name": "base",
   "language": "python",
   "name": "python3"
  },
  "language_info": {
   "codemirror_mode": {
    "name": "ipython",
    "version": 3
   },
   "file_extension": ".py",
   "mimetype": "text/x-python",
   "name": "python",
   "nbconvert_exporter": "python",
   "pygments_lexer": "ipython3",
   "version": "3.9.13"
  },
  "orig_nbformat": 4,
  "vscode": {
   "interpreter": {
    "hash": "4189640f916f38dad6c49a6af929d72d1f0ba34a341867d6334e8a6516c8a914"
   }
  }
 },
 "nbformat": 4,
 "nbformat_minor": 2
}
